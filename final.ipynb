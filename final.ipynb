{
  "nbformat": 4,
  "nbformat_minor": 0,
  "metadata": {
    "colab": {
      "name": "final.ipynb",
      "provenance": [],
      "collapsed_sections": [],
      "include_colab_link": true
    },
    "kernelspec": {
      "name": "python3",
      "display_name": "Python 3"
    }
  },
  "cells": [
    {
      "cell_type": "markdown",
      "metadata": {
        "id": "view-in-github",
        "colab_type": "text"
      },
      "source": [
        "<a href=\"https://colab.research.google.com/github/gtvastella/si101a/blob/master/final.ipynb\" target=\"_parent\"><img src=\"https://colab.research.google.com/assets/colab-badge.svg\" alt=\"Open In Colab\"/></a>"
      ]
    },
    {
      "cell_type": "code",
      "metadata": {
        "id": "8bw03rys4Q8j",
        "colab_type": "code",
        "colab": {}
      },
      "source": [
        "#AULA 1\n",
        "\n",
        "# *banco de dados retirado do Kaggle*"
      ],
      "execution_count": 0,
      "outputs": []
    },
    {
      "cell_type": "code",
      "metadata": {
        "id": "htA99s5EwNVN",
        "colab_type": "code",
        "outputId": "6ce953d1-a4e4-4ffd-c571-820874b837ed",
        "colab": {
          "base_uri": "https://localhost:8080/",
          "height": 876
        }
      },
      "source": [
        "import pandas as pd\n",
        "import seaborn as sns\n",
        "\n",
        "n = pd.read_csv(\"brazil_covid19novo.csv\", index_col=2)\n",
        "#lendo o banco de dados\n",
        "\n",
        "n.head(27)\n",
        "#apresentação do banco de dados, mostrando os casos em cada estado, por região, do Brasil por dia.\n",
        "#o head(27) foi devido aos 26 estados brasileiros mais o distrito federal.\n",
        "#o banco foi editado para mostrar apenas de 1 de abril até 10 de maio, para maior relevância."
      ],
      "execution_count": 3,
      "outputs": [
        {
          "output_type": "execute_result",
          "data": {
            "text/html": [
              "<div>\n",
              "<style scoped>\n",
              "    .dataframe tbody tr th:only-of-type {\n",
              "        vertical-align: middle;\n",
              "    }\n",
              "\n",
              "    .dataframe tbody tr th {\n",
              "        vertical-align: top;\n",
              "    }\n",
              "\n",
              "    .dataframe thead th {\n",
              "        text-align: right;\n",
              "    }\n",
              "</style>\n",
              "<table border=\"1\" class=\"dataframe\">\n",
              "  <thead>\n",
              "    <tr style=\"text-align: right;\">\n",
              "      <th></th>\n",
              "      <th>date</th>\n",
              "      <th>region</th>\n",
              "      <th>cases</th>\n",
              "      <th>deaths</th>\n",
              "    </tr>\n",
              "    <tr>\n",
              "      <th>state</th>\n",
              "      <th></th>\n",
              "      <th></th>\n",
              "      <th></th>\n",
              "      <th></th>\n",
              "    </tr>\n",
              "  </thead>\n",
              "  <tbody>\n",
              "    <tr>\n",
              "      <th>Distrito Federal</th>\n",
              "      <td>4/1/2020</td>\n",
              "      <td>Centro-Oeste</td>\n",
              "      <td>355</td>\n",
              "      <td>3</td>\n",
              "    </tr>\n",
              "    <tr>\n",
              "      <th>Goiás</th>\n",
              "      <td>4/1/2020</td>\n",
              "      <td>Centro-Oeste</td>\n",
              "      <td>71</td>\n",
              "      <td>1</td>\n",
              "    </tr>\n",
              "    <tr>\n",
              "      <th>Mato Grosso</th>\n",
              "      <td>4/1/2020</td>\n",
              "      <td>Centro-Oeste</td>\n",
              "      <td>27</td>\n",
              "      <td>0</td>\n",
              "    </tr>\n",
              "    <tr>\n",
              "      <th>Mato Grosso do Sul</th>\n",
              "      <td>4/1/2020</td>\n",
              "      <td>Centro-Oeste</td>\n",
              "      <td>51</td>\n",
              "      <td>1</td>\n",
              "    </tr>\n",
              "    <tr>\n",
              "      <th>Alagoas</th>\n",
              "      <td>4/1/2020</td>\n",
              "      <td>Nordeste</td>\n",
              "      <td>18</td>\n",
              "      <td>1</td>\n",
              "    </tr>\n",
              "    <tr>\n",
              "      <th>Bahia</th>\n",
              "      <td>4/1/2020</td>\n",
              "      <td>Nordeste</td>\n",
              "      <td>246</td>\n",
              "      <td>2</td>\n",
              "    </tr>\n",
              "    <tr>\n",
              "      <th>Ceará</th>\n",
              "      <td>4/1/2020</td>\n",
              "      <td>Nordeste</td>\n",
              "      <td>444</td>\n",
              "      <td>8</td>\n",
              "    </tr>\n",
              "    <tr>\n",
              "      <th>Maranhão</th>\n",
              "      <td>4/1/2020</td>\n",
              "      <td>Nordeste</td>\n",
              "      <td>52</td>\n",
              "      <td>1</td>\n",
              "    </tr>\n",
              "    <tr>\n",
              "      <th>Paraíba</th>\n",
              "      <td>4/1/2020</td>\n",
              "      <td>Nordeste</td>\n",
              "      <td>20</td>\n",
              "      <td>1</td>\n",
              "    </tr>\n",
              "    <tr>\n",
              "      <th>Pernambuco</th>\n",
              "      <td>4/1/2020</td>\n",
              "      <td>Nordeste</td>\n",
              "      <td>95</td>\n",
              "      <td>8</td>\n",
              "    </tr>\n",
              "    <tr>\n",
              "      <th>Piauí</th>\n",
              "      <td>4/1/2020</td>\n",
              "      <td>Nordeste</td>\n",
              "      <td>18</td>\n",
              "      <td>4</td>\n",
              "    </tr>\n",
              "    <tr>\n",
              "      <th>Rio Grande do Norte</th>\n",
              "      <td>4/1/2020</td>\n",
              "      <td>Nordeste</td>\n",
              "      <td>92</td>\n",
              "      <td>2</td>\n",
              "    </tr>\n",
              "    <tr>\n",
              "      <th>Sergipe</th>\n",
              "      <td>4/1/2020</td>\n",
              "      <td>Nordeste</td>\n",
              "      <td>20</td>\n",
              "      <td>0</td>\n",
              "    </tr>\n",
              "    <tr>\n",
              "      <th>Acre</th>\n",
              "      <td>4/1/2020</td>\n",
              "      <td>Norte</td>\n",
              "      <td>43</td>\n",
              "      <td>0</td>\n",
              "    </tr>\n",
              "    <tr>\n",
              "      <th>Amapá</th>\n",
              "      <td>4/1/2020</td>\n",
              "      <td>Norte</td>\n",
              "      <td>11</td>\n",
              "      <td>0</td>\n",
              "    </tr>\n",
              "    <tr>\n",
              "      <th>Amazonas</th>\n",
              "      <td>4/1/2020</td>\n",
              "      <td>Norte</td>\n",
              "      <td>200</td>\n",
              "      <td>3</td>\n",
              "    </tr>\n",
              "    <tr>\n",
              "      <th>Pará</th>\n",
              "      <td>4/1/2020</td>\n",
              "      <td>Norte</td>\n",
              "      <td>40</td>\n",
              "      <td>1</td>\n",
              "    </tr>\n",
              "    <tr>\n",
              "      <th>Rondônia</th>\n",
              "      <td>4/1/2020</td>\n",
              "      <td>Norte</td>\n",
              "      <td>9</td>\n",
              "      <td>1</td>\n",
              "    </tr>\n",
              "    <tr>\n",
              "      <th>Roraima</th>\n",
              "      <td>4/1/2020</td>\n",
              "      <td>Norte</td>\n",
              "      <td>22</td>\n",
              "      <td>0</td>\n",
              "    </tr>\n",
              "    <tr>\n",
              "      <th>Tocantins</th>\n",
              "      <td>4/1/2020</td>\n",
              "      <td>Norte</td>\n",
              "      <td>12</td>\n",
              "      <td>0</td>\n",
              "    </tr>\n",
              "    <tr>\n",
              "      <th>Espírito Santo</th>\n",
              "      <td>4/1/2020</td>\n",
              "      <td>Sudeste</td>\n",
              "      <td>96</td>\n",
              "      <td>0</td>\n",
              "    </tr>\n",
              "    <tr>\n",
              "      <th>Minas Gerais</th>\n",
              "      <td>4/1/2020</td>\n",
              "      <td>Sudeste</td>\n",
              "      <td>314</td>\n",
              "      <td>3</td>\n",
              "    </tr>\n",
              "    <tr>\n",
              "      <th>Rio de Janeiro</th>\n",
              "      <td>4/1/2020</td>\n",
              "      <td>Sudeste</td>\n",
              "      <td>832</td>\n",
              "      <td>28</td>\n",
              "    </tr>\n",
              "    <tr>\n",
              "      <th>São Paulo</th>\n",
              "      <td>4/1/2020</td>\n",
              "      <td>Sudeste</td>\n",
              "      <td>2981</td>\n",
              "      <td>164</td>\n",
              "    </tr>\n",
              "    <tr>\n",
              "      <th>Paraná</th>\n",
              "      <td>4/1/2020</td>\n",
              "      <td>Sul</td>\n",
              "      <td>224</td>\n",
              "      <td>3</td>\n",
              "    </tr>\n",
              "    <tr>\n",
              "      <th>Rio Grande do Sul</th>\n",
              "      <td>4/1/2020</td>\n",
              "      <td>Sul</td>\n",
              "      <td>306</td>\n",
              "      <td>4</td>\n",
              "    </tr>\n",
              "    <tr>\n",
              "      <th>Santa Catarina</th>\n",
              "      <td>4/1/2020</td>\n",
              "      <td>Sul</td>\n",
              "      <td>235</td>\n",
              "      <td>2</td>\n",
              "    </tr>\n",
              "  </tbody>\n",
              "</table>\n",
              "</div>"
            ],
            "text/plain": [
              "                         date        region  cases  deaths\n",
              "state                                                     \n",
              "Distrito Federal     4/1/2020  Centro-Oeste    355       3\n",
              "Goiás                4/1/2020  Centro-Oeste     71       1\n",
              "Mato Grosso          4/1/2020  Centro-Oeste     27       0\n",
              "Mato Grosso do Sul   4/1/2020  Centro-Oeste     51       1\n",
              "Alagoas              4/1/2020      Nordeste     18       1\n",
              "Bahia                4/1/2020      Nordeste    246       2\n",
              "Ceará                4/1/2020      Nordeste    444       8\n",
              "Maranhão             4/1/2020      Nordeste     52       1\n",
              "Paraíba              4/1/2020      Nordeste     20       1\n",
              "Pernambuco           4/1/2020      Nordeste     95       8\n",
              "Piauí                4/1/2020      Nordeste     18       4\n",
              "Rio Grande do Norte  4/1/2020      Nordeste     92       2\n",
              "Sergipe              4/1/2020      Nordeste     20       0\n",
              "Acre                 4/1/2020         Norte     43       0\n",
              "Amapá                4/1/2020         Norte     11       0\n",
              "Amazonas             4/1/2020         Norte    200       3\n",
              "Pará                 4/1/2020         Norte     40       1\n",
              "Rondônia             4/1/2020         Norte      9       1\n",
              "Roraima              4/1/2020         Norte     22       0\n",
              "Tocantins            4/1/2020         Norte     12       0\n",
              "Espírito Santo       4/1/2020       Sudeste     96       0\n",
              "Minas Gerais         4/1/2020       Sudeste    314       3\n",
              "Rio de Janeiro       4/1/2020       Sudeste    832      28\n",
              "São Paulo            4/1/2020       Sudeste   2981     164\n",
              "Paraná               4/1/2020           Sul    224       3\n",
              "Rio Grande do Sul    4/1/2020           Sul    306       4\n",
              "Santa Catarina       4/1/2020           Sul    235       2"
            ]
          },
          "metadata": {
            "tags": []
          },
          "execution_count": 3
        }
      ]
    },
    {
      "cell_type": "code",
      "metadata": {
        "id": "CF35lLg2zG_S",
        "colab_type": "code",
        "outputId": "51c4b6b0-25a2-4652-ffba-4fb12d115a38",
        "colab": {
          "base_uri": "https://localhost:8080/",
          "height": 34
        }
      },
      "source": [
        "n.loc[n.date == \"5/1/2020\"].cases.sum()\n",
        "#aqui é exibido o número total de casos de covid-19 no Brasil até a data de 01/05/2020."
      ],
      "execution_count": 4,
      "outputs": [
        {
          "output_type": "execute_result",
          "data": {
            "text/plain": [
              "91299"
            ]
          },
          "metadata": {
            "tags": []
          },
          "execution_count": 4
        }
      ]
    },
    {
      "cell_type": "code",
      "metadata": {
        "id": "zGIm929c19fW",
        "colab_type": "code",
        "outputId": "30bc3902-3b83-4d5c-cd28-3311b77acdd3",
        "colab": {
          "base_uri": "https://localhost:8080/",
          "height": 34
        }
      },
      "source": [
        "n.loc[n.date == \"5/1/2020\"].deaths.sum()\n",
        "#aqui é exibido o número total de mortes por covid-19 no Brasil até a data de 01/05/2020."
      ],
      "execution_count": 0,
      "outputs": [
        {
          "output_type": "execute_result",
          "data": {
            "text/plain": [
              "6329"
            ]
          },
          "metadata": {
            "tags": []
          },
          "execution_count": 145
        }
      ]
    },
    {
      "cell_type": "code",
      "metadata": {
        "id": "5xmHcWWb1ctu",
        "colab_type": "code",
        "outputId": "6ed4bffd-f101-4974-a287-3f50a621c5d6",
        "colab": {
          "base_uri": "https://localhost:8080/",
          "height": 388
        }
      },
      "source": [
        "\n",
        "n.loc[n.date == \"5/10/2020\"].deaths.plot.bar()\n",
        "\n",
        "#aqui é exibido um gráfico de barra que mostra o número de mortes por estado até a data de 10/05/2020.\n"
      ],
      "execution_count": 0,
      "outputs": [
        {
          "output_type": "execute_result",
          "data": {
            "text/plain": [
              "<matplotlib.axes._subplots.AxesSubplot at 0x7fb9c30b3358>"
            ]
          },
          "metadata": {
            "tags": []
          },
          "execution_count": 146
        },
        {
          "output_type": "display_data",
          "data": {
            "image/png": "[encoded data removed]",
            "text/plain": [
              "<Figure size 432x288 with 1 Axes>"
            ]
          },
          "metadata": {
            "tags": [],
            "needs_background": "light"
          }
        }
      ]
    },
    {
      "cell_type": "code",
      "metadata": {
        "id": "Lk6gAMG_15G9",
        "colab_type": "code",
        "outputId": "d59e81c8-58cc-4ff5-f379-2272696c23ed",
        "colab": {
          "base_uri": "https://localhost:8080/",
          "height": 265
        }
      },
      "source": [
        "\n",
        "n.loc[n.date == \"5/10/2020\"].cases.plot.pie()\n",
        "#aqui é exibido um gráfico de pizza que mostra o número de casos por estado até a data de 10/05/2020."
      ],
      "execution_count": 0,
      "outputs": [
        {
          "output_type": "execute_result",
          "data": {
            "text/plain": [
              "<matplotlib.axes._subplots.AxesSubplot at 0x7fb9c22e59b0>"
            ]
          },
          "metadata": {
            "tags": []
          },
          "execution_count": 147
        },
        {
          "output_type": "display_data",
          "data": {
            "image/png": "[encoded data removed]",
            "text/plain": [
              "<Figure size 432x288 with 1 Axes>"
            ]
          },
          "metadata": {
            "tags": []
          }
        }
      ]
    },
    {
      "cell_type": "code",
      "metadata": {
        "id": "06ReFkmz2RzY",
        "colab_type": "code",
        "outputId": "d84168cc-db04-4d4e-833a-69a970259943",
        "colab": {
          "base_uri": "https://localhost:8080/",
          "height": 510
        }
      },
      "source": [
        "n.loc[n.date == \"5/10/2020\"].deaths>=500\n",
        "#aqui é exibido estados que possuiam 500 mortes ou mais por covid-19 até o dia 10/05/2020, sinalizados como true"
      ],
      "execution_count": 0,
      "outputs": [
        {
          "output_type": "execute_result",
          "data": {
            "text/plain": [
              "state\n",
              "Distrito Federal       False\n",
              "Goiás                  False\n",
              "Mato Grosso            False\n",
              "Mato Grosso do Sul     False\n",
              "Alagoas                False\n",
              "Bahia                  False\n",
              "Ceará                   True\n",
              "Maranhão               False\n",
              "Paraíba                False\n",
              "Pernambuco              True\n",
              "Piauí                  False\n",
              "Rio Grande do Norte    False\n",
              "Sergipe                False\n",
              "Acre                   False\n",
              "Amapá                  False\n",
              "Amazonas                True\n",
              "Pará                    True\n",
              "Rondônia               False\n",
              "Roraima                False\n",
              "Tocantins              False\n",
              "Espírito Santo         False\n",
              "Minas Gerais           False\n",
              "Rio de Janeiro          True\n",
              "São Paulo               True\n",
              "Paraná                 False\n",
              "Rio Grande do Sul      False\n",
              "Santa Catarina         False\n",
              "Name: deaths, dtype: bool"
            ]
          },
          "metadata": {
            "tags": []
          },
          "execution_count": 148
        }
      ]
    },
    {
      "cell_type": "code",
      "metadata": {
        "id": "52UD5qGS2-1G",
        "colab_type": "code",
        "outputId": "011b68b8-1629-4f94-de72-0613acbdda9e",
        "colab": {
          "base_uri": "https://localhost:8080/",
          "height": 296
        }
      },
      "source": [
        "n.loc[n.date == \"4/22/2020\"].plot.scatter(x='region', y='cases')\n",
        "\n",
        "#aqui é exibido um gráfico do tipo scatter mostrando os casos totais por região exatamente do dia 22 de abril\n",
        "#de 2020."
      ],
      "execution_count": 0,
      "outputs": [
        {
          "output_type": "execute_result",
          "data": {
            "text/plain": [
              "<matplotlib.axes._subplots.AxesSubplot at 0x7fb9c231d2b0>"
            ]
          },
          "metadata": {
            "tags": []
          },
          "execution_count": 149
        },
        {
          "output_type": "display_data",
          "data": {
            "image/png": "[encoded data removed]",
            "text/plain": [
              "<Figure size 432x288 with 1 Axes>"
            ]
          },
          "metadata": {
            "tags": [],
            "needs_background": "light"
          }
        }
      ]
    },
    {
      "cell_type": "code",
      "metadata": {
        "id": "_arXmlUp3_9W",
        "colab_type": "code",
        "colab": {}
      },
      "source": [
        "#AULA 2"
      ],
      "execution_count": 0,
      "outputs": []
    },
    {
      "cell_type": "code",
      "metadata": {
        "id": "9on4bD8N9RLu",
        "colab_type": "code",
        "colab": {}
      },
      "source": [
        "from google.colab import files\n",
        "n.loc[n.date==\"5/10/2020\"].loc[:,['cases', 'deaths','region']].to_csv('teste.csv')\n",
        "files.download('teste.csv')\n",
        "#aqui é filtrado o banco de dados e criado um novo a partir desse, guardando apenas as colunas\n",
        "#deaths, cases e region (mortes e região) do dia 10/05/2020. Em seguida p arquivo é salvo e baixado para o computador que\n",
        "#executou o código"
      ],
      "execution_count": 0,
      "outputs": []
    },
    {
      "cell_type": "code",
      "metadata": {
        "id": "4lznCkia_SSM",
        "colab_type": "code",
        "outputId": "527a1571-ea80-4c75-edb8-b6e49a57dedb",
        "colab": {
          "base_uri": "https://localhost:8080/",
          "height": 225
        }
      },
      "source": [
        "%matplotlib inline\n",
        "import matplotlib.pyplot as plt\n",
        "tt = pd.read_csv(\"teste.csv\")\n",
        "tm= tt.groupby(['region']).sum()\n",
        "tm.head()\n",
        "#aqui é montado, a partir do método groupby, um novo dataset que soma a mortes e casos por regiões com o banco de dados criado anteriormente. \n",
        "#Assim, é possível obter o número total de mortes e casos, ainda no dia 10/05/2020, porém por região e não por estado."
      ],
      "execution_count": 6,
      "outputs": [
        {
          "output_type": "execute_result",
          "data": {
            "text/html": [
              "<div>\n",
              "<style scoped>\n",
              "    .dataframe tbody tr th:only-of-type {\n",
              "        vertical-align: middle;\n",
              "    }\n",
              "\n",
              "    .dataframe tbody tr th {\n",
              "        vertical-align: top;\n",
              "    }\n",
              "\n",
              "    .dataframe thead th {\n",
              "        text-align: right;\n",
              "    }\n",
              "</style>\n",
              "<table border=\"1\" class=\"dataframe\">\n",
              "  <thead>\n",
              "    <tr style=\"text-align: right;\">\n",
              "      <th></th>\n",
              "      <th>cases</th>\n",
              "      <th>deaths</th>\n",
              "    </tr>\n",
              "    <tr>\n",
              "      <th>region</th>\n",
              "      <th></th>\n",
              "      <th></th>\n",
              "    </tr>\n",
              "  </thead>\n",
              "  <tbody>\n",
              "    <tr>\n",
              "      <th>Centro-Oeste</th>\n",
              "      <td>4656</td>\n",
              "      <td>118</td>\n",
              "    </tr>\n",
              "    <tr>\n",
              "      <th>Nordeste</th>\n",
              "      <td>52700</td>\n",
              "      <td>3167</td>\n",
              "    </tr>\n",
              "    <tr>\n",
              "      <th>Norte</th>\n",
              "      <td>27195</td>\n",
              "      <td>1844</td>\n",
              "    </tr>\n",
              "    <tr>\n",
              "      <th>Sudeste</th>\n",
              "      <td>70342</td>\n",
              "      <td>5723</td>\n",
              "    </tr>\n",
              "    <tr>\n",
              "      <th>Sul</th>\n",
              "      <td>7806</td>\n",
              "      <td>271</td>\n",
              "    </tr>\n",
              "  </tbody>\n",
              "</table>\n",
              "</div>"
            ],
            "text/plain": [
              "              cases  deaths\n",
              "region                     \n",
              "Centro-Oeste   4656     118\n",
              "Nordeste      52700    3167\n",
              "Norte         27195    1844\n",
              "Sudeste       70342    5723\n",
              "Sul            7806     271"
            ]
          },
          "metadata": {
            "tags": []
          },
          "execution_count": 6
        }
      ]
    },
    {
      "cell_type": "code",
      "metadata": {
        "id": "2xDBtAFN7EYM",
        "colab_type": "code",
        "outputId": "e6da70a0-2291-4206-8522-cef7783d5973",
        "colab": {
          "base_uri": "https://localhost:8080/",
          "height": 265
        }
      },
      "source": [
        "tm.deaths.plot.pie()\n",
        "\n",
        "#aqui exibimos um gráfico de pizza, baseado no dataset anterior, exibindo a distribuição de mortes por regiões."
      ],
      "execution_count": 7,
      "outputs": [
        {
          "output_type": "execute_result",
          "data": {
            "text/plain": [
              "<matplotlib.axes._subplots.AxesSubplot at 0x7fcbe9a61fd0>"
            ]
          },
          "metadata": {
            "tags": []
          },
          "execution_count": 7
        },
        {
          "output_type": "display_data",
          "data": {
            "image/png": "[encoded data removed]",
            "text/plain": [
              "<Figure size 432x288 with 1 Axes>"
            ]
          },
          "metadata": {
            "tags": []
          }
        }
      ]
    },
    {
      "cell_type": "code",
      "metadata": {
        "id": "Dw_hSAbACpiu",
        "colab_type": "code",
        "outputId": "2d0bfa2b-190f-457d-9ddd-e153e911472a",
        "colab": {
          "base_uri": "https://localhost:8080/",
          "height": 265
        }
      },
      "source": [
        "tm.cases.plot.pie()\n",
        "\n",
        "#aqui exibimos um gráfico de pizza, baseado no dataset anterior, exibindo a distribuição de casos por regiões."
      ],
      "execution_count": 8,
      "outputs": [
        {
          "output_type": "execute_result",
          "data": {
            "text/plain": [
              "<matplotlib.axes._subplots.AxesSubplot at 0x7fcbe9998198>"
            ]
          },
          "metadata": {
            "tags": []
          },
          "execution_count": 8
        },
        {
          "output_type": "display_data",
          "data": {
            "image/png": "[encoded data removed]",
            "text/plain": [
              "<Figure size 432x288 with 1 Axes>"
            ]
          },
          "metadata": {
            "tags": []
          }
        }
      ]
    },
    {
      "cell_type": "code",
      "metadata": {
        "id": "0XKFgWbT8_KJ",
        "colab_type": "code",
        "outputId": "55139125-bfc1-478e-bd5a-fddab67c90a6",
        "colab": {
          "base_uri": "https://localhost:8080/",
          "height": 439
        }
      },
      "source": [
        "\n",
        "sns.factorplot(x=\"cases\", y=\"deaths\", kind=\"bar\", data=tm)\n",
        "\n",
        "#aqui mostramos um gráfico factorplot com todas as mortes separadas por região na data de 10/05/2020"
      ],
      "execution_count": 10,
      "outputs": [
        {
          "output_type": "stream",
          "text": [
            "/usr/local/lib/python3.6/dist-packages/seaborn/categorical.py:3666: UserWarning: The `factorplot` function has been renamed to `catplot`. The original name will be removed in a future release. Please update your code. Note that the default `kind` in `factorplot` (`'point'`) has changed `'strip'` in `catplot`.\n",
            "  warnings.warn(msg)\n"
          ],
          "name": "stderr"
        },
        {
          "output_type": "execute_result",
          "data": {
            "text/plain": [
              "<seaborn.axisgrid.FacetGrid at 0x7fcbe9488f28>"
            ]
          },
          "metadata": {
            "tags": []
          },
          "execution_count": 10
        },
        {
          "output_type": "display_data",
          "data": {
            "image/png": "[encoded data removed]",
            "text/plain": [
              "<Figure size 360x360 with 1 Axes>"
            ]
          },
          "metadata": {
            "tags": [],
            "needs_background": "light"
          }
        }
      ]
    },
    {
      "cell_type": "code",
      "metadata": {
        "id": "-81tzaRkAhYq",
        "colab_type": "code",
        "colab": {}
      },
      "source": [
        "#AULA 3"
      ],
      "execution_count": 0,
      "outputs": []
    },
    {
      "cell_type": "code",
      "metadata": {
        "id": "zFhaKESrF4Jn",
        "colab_type": "code",
        "colab": {}
      },
      "source": [
        "n2 = pd.read_csv(\"brazil_covid19novo.csv\")"
      ],
      "execution_count": 0,
      "outputs": []
    },
    {
      "cell_type": "code",
      "metadata": {
        "id": "kZKWaMC6Ajjz",
        "colab_type": "code",
        "outputId": "daf0f253-fa1d-4608-daa0-2fc3849b6ff3",
        "colab": {
          "base_uri": "https://localhost:8080/",
          "height": 402
        }
      },
      "source": [
        "lista = n2.loc[n2.region == \"Sudeste\"]\n",
        "lista.head(12)\n",
        "\n",
        "#aqui mostramos uma lista com os casos de todos os estados da região sudeste nos 3 primeiros dias de abril. note que, como a região é constituída por 4estados\n",
        "#então, para cada estado seria necessario exibir 4 linhas e totalizando 12 linhas para 3 dias.\n"
      ],
      "execution_count": 13,
      "outputs": [
        {
          "output_type": "execute_result",
          "data": {
            "text/html": [
              "<div>\n",
              "<style scoped>\n",
              "    .dataframe tbody tr th:only-of-type {\n",
              "        vertical-align: middle;\n",
              "    }\n",
              "\n",
              "    .dataframe tbody tr th {\n",
              "        vertical-align: top;\n",
              "    }\n",
              "\n",
              "    .dataframe thead th {\n",
              "        text-align: right;\n",
              "    }\n",
              "</style>\n",
              "<table border=\"1\" class=\"dataframe\">\n",
              "  <thead>\n",
              "    <tr style=\"text-align: right;\">\n",
              "      <th></th>\n",
              "      <th>date</th>\n",
              "      <th>region</th>\n",
              "      <th>state</th>\n",
              "      <th>cases</th>\n",
              "      <th>deaths</th>\n",
              "    </tr>\n",
              "  </thead>\n",
              "  <tbody>\n",
              "    <tr>\n",
              "      <th>20</th>\n",
              "      <td>4/1/2020</td>\n",
              "      <td>Sudeste</td>\n",
              "      <td>Espírito Santo</td>\n",
              "      <td>96</td>\n",
              "      <td>0</td>\n",
              "    </tr>\n",
              "    <tr>\n",
              "      <th>21</th>\n",
              "      <td>4/1/2020</td>\n",
              "      <td>Sudeste</td>\n",
              "      <td>Minas Gerais</td>\n",
              "      <td>314</td>\n",
              "      <td>3</td>\n",
              "    </tr>\n",
              "    <tr>\n",
              "      <th>22</th>\n",
              "      <td>4/1/2020</td>\n",
              "      <td>Sudeste</td>\n",
              "      <td>Rio de Janeiro</td>\n",
              "      <td>832</td>\n",
              "      <td>28</td>\n",
              "    </tr>\n",
              "    <tr>\n",
              "      <th>23</th>\n",
              "      <td>4/1/2020</td>\n",
              "      <td>Sudeste</td>\n",
              "      <td>São Paulo</td>\n",
              "      <td>2981</td>\n",
              "      <td>164</td>\n",
              "    </tr>\n",
              "    <tr>\n",
              "      <th>47</th>\n",
              "      <td>4/2/2020</td>\n",
              "      <td>Sudeste</td>\n",
              "      <td>Espírito Santo</td>\n",
              "      <td>120</td>\n",
              "      <td>1</td>\n",
              "    </tr>\n",
              "    <tr>\n",
              "      <th>48</th>\n",
              "      <td>4/2/2020</td>\n",
              "      <td>Sudeste</td>\n",
              "      <td>Minas Gerais</td>\n",
              "      <td>370</td>\n",
              "      <td>4</td>\n",
              "    </tr>\n",
              "    <tr>\n",
              "      <th>49</th>\n",
              "      <td>4/2/2020</td>\n",
              "      <td>Sudeste</td>\n",
              "      <td>Rio de Janeiro</td>\n",
              "      <td>992</td>\n",
              "      <td>41</td>\n",
              "    </tr>\n",
              "    <tr>\n",
              "      <th>50</th>\n",
              "      <td>4/2/2020</td>\n",
              "      <td>Sudeste</td>\n",
              "      <td>São Paulo</td>\n",
              "      <td>3506</td>\n",
              "      <td>188</td>\n",
              "    </tr>\n",
              "    <tr>\n",
              "      <th>74</th>\n",
              "      <td>4/3/2020</td>\n",
              "      <td>Sudeste</td>\n",
              "      <td>Espírito Santo</td>\n",
              "      <td>139</td>\n",
              "      <td>4</td>\n",
              "    </tr>\n",
              "    <tr>\n",
              "      <th>75</th>\n",
              "      <td>4/3/2020</td>\n",
              "      <td>Sudeste</td>\n",
              "      <td>Minas Gerais</td>\n",
              "      <td>397</td>\n",
              "      <td>6</td>\n",
              "    </tr>\n",
              "    <tr>\n",
              "      <th>76</th>\n",
              "      <td>4/3/2020</td>\n",
              "      <td>Sudeste</td>\n",
              "      <td>Rio de Janeiro</td>\n",
              "      <td>1074</td>\n",
              "      <td>47</td>\n",
              "    </tr>\n",
              "    <tr>\n",
              "      <th>77</th>\n",
              "      <td>4/3/2020</td>\n",
              "      <td>Sudeste</td>\n",
              "      <td>São Paulo</td>\n",
              "      <td>4048</td>\n",
              "      <td>219</td>\n",
              "    </tr>\n",
              "  </tbody>\n",
              "</table>\n",
              "</div>"
            ],
            "text/plain": [
              "        date   region           state  cases  deaths\n",
              "20  4/1/2020  Sudeste  Espírito Santo     96       0\n",
              "21  4/1/2020  Sudeste    Minas Gerais    314       3\n",
              "22  4/1/2020  Sudeste  Rio de Janeiro    832      28\n",
              "23  4/1/2020  Sudeste       São Paulo   2981     164\n",
              "47  4/2/2020  Sudeste  Espírito Santo    120       1\n",
              "48  4/2/2020  Sudeste    Minas Gerais    370       4\n",
              "49  4/2/2020  Sudeste  Rio de Janeiro    992      41\n",
              "50  4/2/2020  Sudeste       São Paulo   3506     188\n",
              "74  4/3/2020  Sudeste  Espírito Santo    139       4\n",
              "75  4/3/2020  Sudeste    Minas Gerais    397       6\n",
              "76  4/3/2020  Sudeste  Rio de Janeiro   1074      47\n",
              "77  4/3/2020  Sudeste       São Paulo   4048     219"
            ]
          },
          "metadata": {
            "tags": []
          },
          "execution_count": 13
        }
      ]
    },
    {
      "cell_type": "code",
      "metadata": {
        "id": "PUOTQ9mVdJIF",
        "colab_type": "code",
        "outputId": "e9f6c7e4-33ea-44f1-9b98-344cd87d1f54",
        "colab": {
          "base_uri": "https://localhost:8080/",
          "height": 166
        }
      },
      "source": [
        "X_lista = lista.loc[: ,  [\"cases\",\t\"deaths\"] ]\n",
        "X_lista.head(4)\n",
        "\n",
        "\n",
        "#aqui fazemos nosso banco restringindo apenas os casos e mortes, sem determinar o estado, já que esse é nosso alvo."
      ],
      "execution_count": 14,
      "outputs": [
        {
          "output_type": "execute_result",
          "data": {
            "text/html": [
              "<div>\n",
              "<style scoped>\n",
              "    .dataframe tbody tr th:only-of-type {\n",
              "        vertical-align: middle;\n",
              "    }\n",
              "\n",
              "    .dataframe tbody tr th {\n",
              "        vertical-align: top;\n",
              "    }\n",
              "\n",
              "    .dataframe thead th {\n",
              "        text-align: right;\n",
              "    }\n",
              "</style>\n",
              "<table border=\"1\" class=\"dataframe\">\n",
              "  <thead>\n",
              "    <tr style=\"text-align: right;\">\n",
              "      <th></th>\n",
              "      <th>cases</th>\n",
              "      <th>deaths</th>\n",
              "    </tr>\n",
              "  </thead>\n",
              "  <tbody>\n",
              "    <tr>\n",
              "      <th>20</th>\n",
              "      <td>96</td>\n",
              "      <td>0</td>\n",
              "    </tr>\n",
              "    <tr>\n",
              "      <th>21</th>\n",
              "      <td>314</td>\n",
              "      <td>3</td>\n",
              "    </tr>\n",
              "    <tr>\n",
              "      <th>22</th>\n",
              "      <td>832</td>\n",
              "      <td>28</td>\n",
              "    </tr>\n",
              "    <tr>\n",
              "      <th>23</th>\n",
              "      <td>2981</td>\n",
              "      <td>164</td>\n",
              "    </tr>\n",
              "  </tbody>\n",
              "</table>\n",
              "</div>"
            ],
            "text/plain": [
              "    cases  deaths\n",
              "20     96       0\n",
              "21    314       3\n",
              "22    832      28\n",
              "23   2981     164"
            ]
          },
          "metadata": {
            "tags": []
          },
          "execution_count": 14
        }
      ]
    },
    {
      "cell_type": "code",
      "metadata": {
        "id": "3C1s0TgPdO8B",
        "colab_type": "code",
        "outputId": "03cde17d-fa34-44da-e359-1e2cc8e9c0ca",
        "colab": {
          "base_uri": "https://localhost:8080/",
          "height": 101
        }
      },
      "source": [
        "y_lista = lista.state\n",
        "y_lista.head(4)\n",
        "\n",
        "#aqui fazemos um banco restringindo apenas os estados, sem determinar mortes e casos, já que isso servirá para  determinar o alvo(estado)"
      ],
      "execution_count": 15,
      "outputs": [
        {
          "output_type": "execute_result",
          "data": {
            "text/plain": [
              "20    Espírito Santo\n",
              "21      Minas Gerais\n",
              "22    Rio de Janeiro\n",
              "23         São Paulo\n",
              "Name: state, dtype: object"
            ]
          },
          "metadata": {
            "tags": []
          },
          "execution_count": 15
        }
      ]
    },
    {
      "cell_type": "code",
      "metadata": {
        "id": "tT7AmIcHdUHx",
        "colab_type": "code",
        "colab": {}
      },
      "source": [
        "from sklearn.ensemble import ExtraTreesClassifier\n",
        "from sklearn.model_selection import train_test_split\n",
        "\n",
        "ETC = ExtraTreesClassifier()\n",
        "#escolhemos o modelo ExtraTreesClassifier\n",
        "\n",
        "Xtrain, Xtest, ytrain, ytest = train_test_split(X_lista, y_lista, random_state=74)\n",
        "#fazemos nosso \"treino\" baseado nos bancos criados anteriormentes"
      ],
      "execution_count": 0,
      "outputs": []
    },
    {
      "cell_type": "code",
      "metadata": {
        "id": "kLgLHaVrdyIj",
        "colab_type": "code",
        "colab": {}
      },
      "source": [
        "ETC.fit(Xtrain, ytrain)\n",
        "y_ETC = ETC.predict(Xtest)\n",
        "#utilizamos o método de predição"
      ],
      "execution_count": 0,
      "outputs": []
    },
    {
      "cell_type": "code",
      "metadata": {
        "id": "DJEoGabPd3kl",
        "colab_type": "code",
        "outputId": "b4344454-3db8-4c47-e43a-3a3d71734793",
        "colab": {
          "base_uri": "https://localhost:8080/",
          "height": 34
        }
      },
      "source": [
        "from sklearn.metrics import accuracy_score\n",
        "\n",
        "accuracy_score(ytest, y_ETC)*100 \n",
        "\n",
        "#determinamos a precisão final em porcentagem do modelo ETC"
      ],
      "execution_count": 23,
      "outputs": [
        {
          "output_type": "execute_result",
          "data": {
            "text/plain": [
              "72.5"
            ]
          },
          "metadata": {
            "tags": []
          },
          "execution_count": 23
        }
      ]
    },
    {
      "cell_type": "code",
      "metadata": {
        "id": "XSZnE3y9d-hj",
        "colab_type": "code",
        "outputId": "1850c596-4c50-4645-e91c-9db7c67338e7",
        "colab": {
          "base_uri": "https://localhost:8080/",
          "height": 202
        }
      },
      "source": [
        "y_ETC\n",
        "#o que foi inferido"
      ],
      "execution_count": 21,
      "outputs": [
        {
          "output_type": "execute_result",
          "data": {
            "text/plain": [
              "array(['São Paulo', 'Espírito Santo', 'Espírito Santo', 'Rio de Janeiro',\n",
              "       'Rio de Janeiro', 'São Paulo', 'Rio de Janeiro', 'Minas Gerais',\n",
              "       'Minas Gerais', 'Espírito Santo', 'Minas Gerais', 'Espírito Santo',\n",
              "       'Rio de Janeiro', 'Minas Gerais', 'Rio de Janeiro', 'Minas Gerais',\n",
              "       'Espírito Santo', 'Minas Gerais', 'Rio de Janeiro', 'São Paulo',\n",
              "       'Rio de Janeiro', 'Rio de Janeiro', 'Rio de Janeiro',\n",
              "       'Minas Gerais', 'Espírito Santo', 'Espírito Santo', 'Minas Gerais',\n",
              "       'Espírito Santo', 'São Paulo', 'São Paulo', 'Minas Gerais',\n",
              "       'Minas Gerais', 'Minas Gerais', 'Rio de Janeiro', 'Minas Gerais',\n",
              "       'Rio de Janeiro', 'Espírito Santo', 'Espírito Santo', 'São Paulo',\n",
              "       'São Paulo'], dtype=object)"
            ]
          },
          "metadata": {
            "tags": []
          },
          "execution_count": 21
        }
      ]
    },
    {
      "cell_type": "code",
      "metadata": {
        "id": "MXG9ikfcd_tB",
        "colab_type": "code",
        "outputId": "2fd7b9c6-bcca-40ad-ce8d-f383e8195c8f",
        "colab": {
          "base_uri": "https://localhost:8080/",
          "height": 706
        }
      },
      "source": [
        "ytest\n",
        "#o \"gabarito\" do teste"
      ],
      "execution_count": 22,
      "outputs": [
        {
          "output_type": "execute_result",
          "data": {
            "text/plain": [
              "994     Rio de Janeiro\n",
              "938     Espírito Santo\n",
              "722     Espírito Santo\n",
              "967     Rio de Janeiro\n",
              "750       Minas Gerais\n",
              "941          São Paulo\n",
              "913     Rio de Janeiro\n",
              "211     Rio de Janeiro\n",
              "723       Minas Gerais\n",
              "317     Espírito Santo\n",
              "129       Minas Gerais\n",
              "992     Espírito Santo\n",
              "562     Rio de Janeiro\n",
              "103     Rio de Janeiro\n",
              "616     Rio de Janeiro\n",
              "642       Minas Gerais\n",
              "560     Espírito Santo\n",
              "884     Espírito Santo\n",
              "455          São Paulo\n",
              "1076         São Paulo\n",
              "644          São Paulo\n",
              "535     Rio de Janeiro\n",
              "1048    Rio de Janeiro\n",
              "912       Minas Gerais\n",
              "966       Minas Gerais\n",
              "128     Espírito Santo\n",
              "76      Rio de Janeiro\n",
              "101     Espírito Santo\n",
              "752          São Paulo\n",
              "563          São Paulo\n",
              "399       Minas Gerais\n",
              "22      Rio de Janeiro\n",
              "184     Rio de Janeiro\n",
              "481     Rio de Janeiro\n",
              "480       Minas Gerais\n",
              "805     Rio de Janeiro\n",
              "155     Espírito Santo\n",
              "74      Espírito Santo\n",
              "104          São Paulo\n",
              "968          São Paulo\n",
              "Name: state, dtype: object"
            ]
          },
          "metadata": {
            "tags": []
          },
          "execution_count": 22
        }
      ]
    }
  ]
}